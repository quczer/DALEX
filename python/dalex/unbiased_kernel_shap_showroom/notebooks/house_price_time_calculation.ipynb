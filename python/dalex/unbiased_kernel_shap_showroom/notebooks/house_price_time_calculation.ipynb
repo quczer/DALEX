{
 "cells": [
  {
   "cell_type": "code",
   "execution_count": null,
   "id": "b9b52304",
   "metadata": {},
   "outputs": [],
   "source": [
    "%run models.ipynb\n",
    "%run datasets.ipynb"
   ]
  },
  {
   "cell_type": "code",
   "execution_count": null,
   "id": "2c8c87f0",
   "metadata": {},
   "outputs": [],
   "source": [
    "import dalex as dx\n",
    "import numpy as np\n",
    "import shap\n",
    "import time\n",
    "import signal"
   ]
  },
  {
   "cell_type": "code",
   "execution_count": null,
   "id": "3298f34e",
   "metadata": {},
   "outputs": [],
   "source": [
    "svm = create_model('svm', kernel='linear')\n",
    "xgboost = create_model('xgboost')"
   ]
  },
  {
   "cell_type": "markdown",
   "id": "8fc9b6f6",
   "metadata": {},
   "source": [
    "## Dobór porównywalnych czasów wykonania kernel shap i unbiased kernel shap"
   ]
  },
  {
   "cell_type": "code",
   "execution_count": null,
   "id": "7a0dd5f5",
   "metadata": {},
   "outputs": [],
   "source": [
    "X_train_svm, X_test_svm, y_train_svm, y_test_svm = get_test_train('house_price', train_size=200)\n",
    "X_train_xgboost, X_test_xgboost, y_train_xgboost, y_test_xgboost = get_test_train('house_price', train_size=500)"
   ]
  },
  {
   "cell_type": "code",
   "execution_count": null,
   "id": "9b4a9bb2",
   "metadata": {},
   "outputs": [],
   "source": [
    "svm.fit(X_train_svm, y_train_svm)\n",
    "svm.score(X_test_svm, y_test_svm)"
   ]
  },
  {
   "cell_type": "code",
   "execution_count": null,
   "id": "a19ee27f",
   "metadata": {},
   "outputs": [],
   "source": [
    "xgboost.fit(X_train_xgboost, y_train_xgboost)\n",
    "xgboost.score(X_test_xgboost, y_test_xgboost)"
   ]
  },
  {
   "cell_type": "code",
   "execution_count": null,
   "id": "f75801bf",
   "metadata": {},
   "outputs": [],
   "source": [
    "model_predicting_method = lambda m, d: m.predict(d)"
   ]
  },
  {
   "cell_type": "code",
   "execution_count": null,
   "id": "4d07b592",
   "metadata": {},
   "outputs": [],
   "source": [
    "explainer_svm = dx.Explainer(svm, X_train_svm, y_train_svm, predict_function=model_predicting_method, \\\n",
    "                             label=\"SVM_house_price\")\n",
    "explainer_xgboost = dx.Explainer(xgboost, X_train_xgboost, y_train_xgboost, \\\n",
    "                                 predict_function=model_predicting_method, label=\"XGBoost_house_price\")\n",
    "\n",
    "kernel_explainer_svm = shap.KernelExplainer(svm.predict, X_train_svm)\n",
    "kernel_explainer_xgboost = shap.KernelExplainer(xgboost.predict, X_train_xgboost)"
   ]
  },
  {
   "cell_type": "code",
   "execution_count": null,
   "id": "d56ba7c7",
   "metadata": {},
   "outputs": [],
   "source": [
    "nb_of_features = len(X_test_svm.columns)\n",
    "\n",
    "nb_of_test_samples = 500\n",
    "\n",
    "def get_time_and_explanatinos(explainer, contributions, n_samples, model, is_dalex = True):\n",
    "    time_list = []\n",
    "    \n",
    "    if model == \"svm\":\n",
    "        X_test = X_test_svm\n",
    "    else:\n",
    "        X_test = X_test_xgboost\n",
    "        \n",
    "    for k in range(0, nb_of_test_samples):\n",
    "        \n",
    "        if is_dalex:\n",
    "            start = time.time()\n",
    "            \n",
    "            explain = explainer.predict_parts(X_test.iloc[k:k+1], type=\"unbiased_kernel_shap\",\n",
    "                                              n_samples = n_samples, label=f\"sample id: {k}\")\n",
    "            measured_time = time.time() - start\n",
    "            contr = explain.result['contribution'].to_numpy()\n",
    "        else:\n",
    "            start = time.time()\n",
    "            \n",
    "            shapley_values = explainer.shap_values(X_test.iloc[k:k+1], nsamples = n_samples)\n",
    "            measured_time = time.time() - start\n",
    "            contr = shapley_values\n",
    "        \n",
    "        contributions[k, :] = contr\n",
    "        time_list.append(measured_time)\n",
    "    print(sum(time_list)/nb_of_test_samples)"
   ]
  },
  {
   "cell_type": "code",
   "execution_count": null,
   "id": "5703c100",
   "metadata": {},
   "outputs": [],
   "source": [
    "contributions_xgboost = np.zeros((nb_of_test_samples, nb_of_features))\n",
    "get_time_and_explanatinos(explainer_xgboost, contributions_xgboost, 380, \"xgboost\")"
   ]
  },
  {
   "cell_type": "code",
   "execution_count": null,
   "id": "b2a075cb",
   "metadata": {},
   "outputs": [],
   "source": [
    "kernel_contributions_xgboost = np.zeros((nb_of_test_samples, nb_of_features))\n",
    "get_time_and_explanatinos(kernel_explainer_xgboost, kernel_contributions_xgboost,  20, \"xgboost\", False)"
   ]
  },
  {
   "cell_type": "code",
   "execution_count": null,
   "id": "88a4c03b",
   "metadata": {},
   "outputs": [],
   "source": [
    "contributions_svm = np.zeros((nb_of_test_samples, nb_of_features))\n",
    "get_time_and_explanatinos(explainer_svm, contributions_svm, 165, \"svm\")"
   ]
  },
  {
   "cell_type": "code",
   "execution_count": null,
   "id": "f8db051f",
   "metadata": {},
   "outputs": [],
   "source": [
    "kernel_contributions_svm = np.zeros((nb_of_test_samples, nb_of_features))\n",
    "get_time_and_explanatinos(kernel_explainer_svm, kernel_contributions_svm, 50, \"svm\", False)"
   ]
  },
  {
   "cell_type": "code",
   "execution_count": null,
   "id": "bdd122dd",
   "metadata": {},
   "outputs": [],
   "source": []
  }
 ],
 "metadata": {
  "kernelspec": {
   "display_name": "myDalex",
   "language": "python",
   "name": "mydalex"
  },
  "language_info": {
   "codemirror_mode": {
    "name": "ipython",
    "version": 3
   },
   "file_extension": ".py",
   "mimetype": "text/x-python",
   "name": "python",
   "nbconvert_exporter": "python",
   "pygments_lexer": "ipython3",
   "version": "3.7.16"
  }
 },
 "nbformat": 4,
 "nbformat_minor": 5
}
