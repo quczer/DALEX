{
 "cells": [
  {
   "cell_type": "code",
   "execution_count": null,
   "id": "b9b52304",
   "metadata": {},
   "outputs": [],
   "source": [
    "%run models.ipynb\n",
    "%run datasets.ipynb"
   ]
  },
  {
   "cell_type": "code",
   "execution_count": null,
   "id": "2c8c87f0",
   "metadata": {},
   "outputs": [],
   "source": [
    "import dalex as dx\n",
    "import numpy as np\n",
    "import shap\n",
    "import time\n",
    "import signal\n",
    "from matplotlib import pyplot as plt"
   ]
  },
  {
   "cell_type": "code",
   "execution_count": null,
   "id": "3298f34e",
   "metadata": {},
   "outputs": [],
   "source": [
    "svm = create_model('svm', kernel='linear')\n",
    "xgboost = create_model('xgboost')"
   ]
  },
  {
   "cell_type": "markdown",
   "id": "8fc9b6f6",
   "metadata": {},
   "source": [
    "## Porównanie zbieżności kernel shap i unbiased kernel shap"
   ]
  },
  {
   "cell_type": "code",
   "execution_count": null,
   "id": "7a0dd5f5",
   "metadata": {},
   "outputs": [],
   "source": [
    "X_train_svm, X_test_svm, y_train_svm, y_test_svm = get_test_train('house_price', train_size=200)\n",
    "X_train_xgboost, X_test_xgboost, y_train_xgboost, y_test_xgboost = get_test_train('house_price', train_size=500)"
   ]
  },
  {
   "cell_type": "code",
   "execution_count": null,
   "id": "9b4a9bb2",
   "metadata": {},
   "outputs": [],
   "source": [
    "svm.fit(X_train_svm, y_train_svm)\n",
    "svm.score(X_test_svm, y_test_svm)"
   ]
  },
  {
   "cell_type": "code",
   "execution_count": null,
   "id": "a19ee27f",
   "metadata": {},
   "outputs": [],
   "source": [
    "xgboost.fit(X_train_xgboost, y_train_xgboost)\n",
    "xgboost.score(X_test_xgboost, y_test_xgboost)"
   ]
  },
  {
   "cell_type": "code",
   "execution_count": null,
   "id": "f75801bf",
   "metadata": {},
   "outputs": [],
   "source": [
    "model_predicting_method = lambda m, d: m.predict(d)"
   ]
  },
  {
   "cell_type": "code",
   "execution_count": null,
   "id": "4d07b592",
   "metadata": {},
   "outputs": [],
   "source": [
    "explainer_svm = dx.Explainer(svm, X_train_svm, y_train_svm, predict_function=model_predicting_method, \\\n",
    "                             label=\"SVM_house_price\")\n",
    "explainer_xgboost = dx.Explainer(xgboost, X_train_xgboost, y_train_xgboost, \\\n",
    "                                 predict_function=model_predicting_method, label=\"XGBoost_house_price\")\n",
    "\n",
    "kernel_explainer_svm = shap.KernelExplainer(svm.predict, X_train_svm)\n",
    "kernel_explainer_xgboost = shap.KernelExplainer(xgboost.predict, X_train_xgboost)"
   ]
  },
  {
   "cell_type": "code",
   "execution_count": null,
   "id": "d56ba7c7",
   "metadata": {},
   "outputs": [],
   "source": [
    "nb_of_features = len(X_test_svm.columns)\n",
    "nb_of_test_samples = 20\n",
    "\n",
    "N = 500\n",
    "\n",
    "def get_explanatinos(explainer, contributions, n_samples, model, is_dalex = True):\n",
    "    \n",
    "    if model == \"svm\":\n",
    "        X_test = X_test_svm\n",
    "    else:\n",
    "        X_test = X_test_xgboost\n",
    "    \n",
    "    if is_dalex:\n",
    "    \n",
    "        for i in range(0, N):\n",
    "            for k in range(0, nb_of_test_samples):\n",
    "                print(i,k)\n",
    "\n",
    "                explain = explainer.predict_parts(X_test.iloc[k:k+1], type=\"unbiased_kernel_shap\", \\\n",
    "                                                  n_samples = n_samples)\n",
    "\n",
    "                contr = explain.result['contribution'].to_numpy()\n",
    "                contributions[i, k, :] = contr\n",
    "                    \n",
    "    else:\n",
    "        \n",
    "        for i in range(0, N):\n",
    "            for k in range(0, nb_of_test_samples):\n",
    "                print(i,k)\n",
    "\n",
    "                shapley_values = explainer.shap_values(X_test.iloc[k:k+1], nsamples = n_samples)\n",
    "\n",
    "                contr = shapley_values\n",
    "                contributions[i, k, :] = contr"
   ]
  },
  {
   "cell_type": "code",
   "execution_count": null,
   "id": "5703c100",
   "metadata": {},
   "outputs": [],
   "source": [
    "contributions_xgboost = np.zeros((N, nb_of_test_samples, nb_of_features))\n",
    "get_explanatinos(explainer_xgboost, contributions_xgboost, 380, \"xgboost\")"
   ]
  },
  {
   "cell_type": "code",
   "execution_count": null,
   "id": "b2a075cb",
   "metadata": {},
   "outputs": [],
   "source": [
    "kernel_contributions_xgboost = np.zeros((N, nb_of_test_samples, nb_of_features))\n",
    "get_explanatinos(kernel_explainer_xgboost, kernel_contributions_xgboost,  20, \"xgboost\", False)"
   ]
  },
  {
   "cell_type": "code",
   "execution_count": null,
   "id": "88a4c03b",
   "metadata": {},
   "outputs": [],
   "source": [
    "contributions_svm = np.zeros((N, nb_of_test_samples, nb_of_features))\n",
    "get_explanatinos(explainer_svm, contributions_svm, 165, \"svm\")"
   ]
  },
  {
   "cell_type": "code",
   "execution_count": null,
   "id": "f8db051f",
   "metadata": {},
   "outputs": [],
   "source": [
    "kernel_contributions_svm = np.zeros((N, nb_of_test_samples, nb_of_features))\n",
    "get_explanatinos(kernel_explainer_svm, kernel_contributions_svm, 50, \"svm\", False)"
   ]
  },
  {
   "cell_type": "code",
   "execution_count": null,
   "id": "bdd122dd",
   "metadata": {},
   "outputs": [],
   "source": [
    "std_svm = np.std(contributions_svm, axis = 0)\n",
    "std_svm_mean = np.mean(std_svm, axis = 0)\n",
    "std_svm_mean"
   ]
  },
  {
   "cell_type": "code",
   "execution_count": null,
   "id": "93be27b6",
   "metadata": {},
   "outputs": [],
   "source": [
    "std_svm_kernel = np.std(kernel_contributions_svm, axis = 0)\n",
    "std_svm_kernel_mean = np.mean(std_svm_kernel, axis = 0)\n",
    "std_svm_kernel_mean"
   ]
  },
  {
   "cell_type": "code",
   "execution_count": null,
   "id": "05d121e2",
   "metadata": {},
   "outputs": [],
   "source": [
    "std_xgboost = np.std(contributions_xgboost, axis = 0)\n",
    "std_xgboost_mean = np.mean(std_xgboost, axis = 0)\n",
    "std_xgboost_mean"
   ]
  },
  {
   "cell_type": "code",
   "execution_count": null,
   "id": "79dce715",
   "metadata": {},
   "outputs": [],
   "source": [
    "std_xgboost_kernel = np.std(kernel_contributions_xgboost, axis = 0)\n",
    "std_xgboost_kernel_mean = np.mean(std_xgboost_kernel, axis = 0)\n",
    "std_xgboost_kernel_mean"
   ]
  },
  {
   "cell_type": "code",
   "execution_count": null,
   "id": "11e39555",
   "metadata": {},
   "outputs": [],
   "source": [
    "fig, ax = plt.subplots(figsize=(30,10))\n",
    "\n",
    "x_axis = np.arange(9)\n",
    "width = 0.4\n",
    "plt.bar(x_axis - width / 2, std_xgboost_mean, width, color='tab:red', label='unbiased kenrel shap')\n",
    "plt.bar(x_axis + width / 2, std_xgboost_kernel_mean, width, color='tab:blue', label='kernel shap')\n",
    "plt.title('Mean standard deviation of estmated shapley values for xgboost per feature for 9 feature regression', fontsize=30)\n",
    "plt.xlabel(None)\n",
    "plt.yticks(fontsize=20)\n",
    "plt.xticks(x_axis, X_test_svm.columns, fontsize=20)\n",
    "ax.grid(False)\n",
    "ax.tick_params(bottom=False, left=True)\n",
    "plt.legend(frameon=False, fontsize=20)"
   ]
  },
  {
   "cell_type": "code",
   "execution_count": null,
   "id": "efc77da7",
   "metadata": {},
   "outputs": [],
   "source": [
    "def save_parquet(array, name):\n",
    "    df = pd.DataFrame(columns=list(X_test_xgboost.columns) + ['N', 'test_sample_idx'])\n",
    "\n",
    "    for N, a in enumerate(array):\n",
    "        for test_sample_idx, c in enumerate(a):\n",
    "            row = np.concatenate((c, np.array([N,test_sample_idx])))\n",
    "            temp = pd.DataFrame(row.reshape(1,-1), columns=(list(X_test_xgboost.columns) + ['N', 'test_sample_idx']))\n",
    "            df = df.append(temp, ignore_index=True)\n",
    "    df.to_parquet(name)"
   ]
  },
  {
   "cell_type": "code",
   "execution_count": null,
   "id": "2a39d9d7",
   "metadata": {},
   "outputs": [],
   "source": [
    "save_parquet(kernel_contributions_svm, \"../estimates/house_price_kernel_svm_compare.parquet\")\n",
    "save_parquet(contributions_svm, \"../estimates/house_price_uks_svm_compare.parquet\")\n",
    "save_parquet(kernel_contributions_xgboost, \"../estimates/house_price_kernel_xgboost_compare.parquet\")\n",
    "save_parquet(contributions_xgboost, \"../estimates/house_price_uks_xgboost_compare.parquet\")"
   ]
  },
  {
   "cell_type": "code",
   "execution_count": null,
   "id": "5d344874",
   "metadata": {},
   "outputs": [],
   "source": []
  }
 ],
 "metadata": {
  "kernelspec": {
   "display_name": "myDalex",
   "language": "python",
   "name": "mydalex"
  },
  "language_info": {
   "codemirror_mode": {
    "name": "ipython",
    "version": 3
   },
   "file_extension": ".py",
   "mimetype": "text/x-python",
   "name": "python",
   "nbconvert_exporter": "python",
   "pygments_lexer": "ipython3",
   "version": "3.7.16"
  }
 },
 "nbformat": 4,
 "nbformat_minor": 5
}
