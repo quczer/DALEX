{
 "cells": [
  {
   "cell_type": "code",
   "execution_count": 1,
   "id": "b9b52304",
   "metadata": {},
   "outputs": [],
   "source": [
    "%run models.ipynb\n",
    "%run datasets.ipynb"
   ]
  },
  {
   "cell_type": "code",
   "execution_count": 2,
   "id": "2c8c87f0",
   "metadata": {},
   "outputs": [
    {
     "name": "stderr",
     "output_type": "stream",
     "text": [
      "/home/edsuch21/anaconda3/envs/myDalex/lib/python3.7/site-packages/tqdm/auto.py:22: TqdmWarning: IProgress not found. Please update jupyter and ipywidgets. See https://ipywidgets.readthedocs.io/en/stable/user_install.html\n",
      "  from .autonotebook import tqdm as notebook_tqdm\n"
     ]
    }
   ],
   "source": [
    "import dalex as dx\n",
    "import numpy as np\n",
    "import shap"
   ]
  },
  {
   "cell_type": "code",
   "execution_count": 3,
   "id": "3298f34e",
   "metadata": {},
   "outputs": [],
   "source": [
    "svm = create_model('svm', kernel='linear')\n",
    "xgboost = create_model('xgboost')"
   ]
  },
  {
   "cell_type": "markdown",
   "id": "8fc9b6f6",
   "metadata": {},
   "source": [
    "## Szacowanie ceny mieszkań"
   ]
  },
  {
   "cell_type": "code",
   "execution_count": 4,
   "id": "7a0dd5f5",
   "metadata": {},
   "outputs": [],
   "source": [
    "X_train, X_test, y_train, y_test = get_test_train('house_price', train_size=299+1)"
   ]
  },
  {
   "cell_type": "code",
   "execution_count": null,
   "id": "f75801bf",
   "metadata": {},
   "outputs": [],
   "source": [
    "model_predicting_method = lambda m, d: m.predict(d)"
   ]
  },
  {
   "cell_type": "code",
   "execution_count": null,
   "id": "9b4a9bb2",
   "metadata": {},
   "outputs": [],
   "source": [
    "svm.fit(X_train, y_train)\n",
    "svm.score(X_test, y_test)"
   ]
  },
  {
   "cell_type": "code",
   "execution_count": null,
   "id": "a19ee27f",
   "metadata": {},
   "outputs": [],
   "source": [
    "xgboost.fit(X_train, y_train)\n",
    "xgboost.score(X_test, y_test)"
   ]
  },
  {
   "cell_type": "code",
   "execution_count": null,
   "id": "4d07b592",
   "metadata": {},
   "outputs": [],
   "source": [
    "explainer_svm = dx.Explainer(svm, X_train, y_train, predict_function=model_predicting_method, \\\n",
    "                             label=\"SVM_house_price\")\n",
    "explainer_xgboost = dx.Explainer(xgboost, X_train, y_train, predict_function=model_predicting_method, \\\n",
    "                                 label=\"XGBoost_house_price\")"
   ]
  },
  {
   "cell_type": "code",
   "execution_count": null,
   "id": "d56ba7c7",
   "metadata": {},
   "outputs": [],
   "source": [
    "N = 500\n",
    "nb_of_features = len(X_test.columns)\n",
    "\n",
    "nb_of_columns_sampled = [30, 70, 100, 150, 200, 300, 350, 400, 450, 500]\n",
    "nb_of_test_samples = 5\n",
    "contributions_xgboost = np.zeros((len(nb_of_columns_sampled), N, nb_of_test_samples, nb_of_features))\n",
    "contributions_svm = np.zeros((len(nb_of_columns_sampled), N, nb_of_test_samples, nb_of_features))\n",
    "\n",
    "for j, samples in enumerate(nb_of_columns_sampled):\n",
    "    for i in range(0, N):\n",
    "        for k in range(0, nb_of_test_samples):\n",
    "            print(j,i,k)\n",
    "            \n",
    "            for explainer, contributions in zip([explainer_xgboost, explainer_svm], \\\n",
    "                                                [contributions_xgboost, contributions_svm]):\n",
    "                explain = explainer.predict_parts(X_test.iloc[k:k+1], type=\"unbiased_kernel_shap\", n_samples = samples)\n",
    "                \n",
    "                contr = explain.result['contribution'].to_numpy()\n",
    "                contributions[j, i, k, :] = contr"
   ]
  },
  {
   "cell_type": "code",
   "execution_count": null,
   "id": "537a8036",
   "metadata": {},
   "outputs": [],
   "source": [
    "avg_xgboost = np.mean(contributions_xgboost, axis = 1)\n",
    "std_xgboost_0_0 = np.std(contributions_xgboost[:, :, 0, 0], axis = 1)\n",
    "avg_svm = np.mean(contributions_svm, axis = 1)\n",
    "std_svm_0_0 = np.std(contributions_svm[:, :, 0, 0], axis = 1)"
   ]
  },
  {
   "cell_type": "code",
   "execution_count": null,
   "id": "71652d22",
   "metadata": {},
   "outputs": [],
   "source": [
    "exact_explainer_svm = shap.explainers.Exact(svm.predict, X_train)\n",
    "exact_explainer_xgboost = shap.explainers.Exact(xgboost.predict, X_train)\n",
    "\n",
    "exact_shap_result = []\n",
    "for explainer in [exact_explainer_svm, exact_explainer_xgboost]:\n",
    "    shap_values = np.zeros((nb_of_test_samples, nb_of_features))\n",
    "    for k in range(0, nb_of_test_samples):\n",
    "        shap_values[k, :] = explainer(X_test.iloc[k:k+1]).values\n",
    "\n",
    "    exact_shap_result.append(shap_values)"
   ]
  },
  {
   "cell_type": "code",
   "execution_count": null,
   "id": "8b2b821b",
   "metadata": {},
   "outputs": [],
   "source": [
    "svm_error = np.sum(abs(avg_svm - exact_shap_result[0]), axis=2) / abs(np.sum(exact_shap_result[0], axis=1))\n",
    "mean_svm_error = np.mean(svm_error, axis=1)\n",
    "std_svm_error = np.std(svm_error, axis=1)\n",
    "xgboost_error = np.sum(abs(avg_xgboost - exact_shap_result[1]), axis=2) / abs(np.sum(exact_shap_result[1], axis=1))\n",
    "mean_xgboost_error = np.mean(xgboost_error, axis=1)\n",
    "std_xgboost_error = np.std(xgboost_error, axis=1)"
   ]
  },
  {
   "cell_type": "code",
   "execution_count": null,
   "id": "5c2b0302",
   "metadata": {},
   "outputs": [],
   "source": [
    "from matplotlib import pyplot as plt\n",
    "\n",
    "fig, ax = plt.subplots(figsize=(10,5))\n",
    "\n",
    "plt.bar(nb_of_columns_sampled, mean_svm_error)\n",
    "plt.errorbar(nb_of_columns_sampled, mean_svm_error, yerr=std_svm_error, fmt=\"o\")\n",
    "plt.title('Mean unbiased kernel shap error for xgboost', fontsize=20)\n",
    "plt.xlabel('Number of n_samples', fontsize=15)\n",
    "plt.ylabel('Mean realtive error', fontsize=15)\n",
    "plt.yticks(fontsize=13)\n",
    "plt.xticks(fontsize=13)\n",
    "ax.grid(False)\n",
    "ax.tick_params(bottom=False, left=True)"
   ]
  },
  {
   "cell_type": "code",
   "execution_count": null,
   "id": "df594d34",
   "metadata": {},
   "outputs": [],
   "source": [
    "from matplotlib import pyplot as plt\n",
    "\n",
    "fig, ax = plt.subplots(figsize=(10,5))\n",
    "\n",
    "plt.scatter(nb_of_columns_sampled, mean_xgboost_error)\n",
    "plt.errorbar(nb_of_columns_sampled, mean_xgboost_error, yerr=std_xgboost_error, fmt=\"o\")\n",
    "plt.title('Mean unbiased kernel shap error for SVM ', fontsize=20)\n",
    "plt.xlabel('Number of n_samples', fontsize=15)\n",
    "plt.ylabel('Mean realtive error', fontsize=15)\n",
    "plt.yticks(fontsize=13)\n",
    "plt.xticks(fontsize=13)\n",
    "ax.grid(False)\n",
    "ax.tick_params(bottom=False, left=True)"
   ]
  },
  {
   "cell_type": "code",
   "execution_count": null,
   "id": "629af619",
   "metadata": {},
   "outputs": [],
   "source": [
    "fig, ax = plt.subplots(figsize=(30,10))\n",
    "\n",
    "width = 10\n",
    "plt.bar([x - width/2 for x in nb_of_columns_sampled], std_svm_0_0, width, color='tab:red', label=\"SVM\")\n",
    "plt.bar([x + width/2 for x in nb_of_columns_sampled], std_xgboost_0_0, width, color='tab:blue', label=\"xgboost\")\n",
    "plt.title(\"Standard deviation for random sample for 'bedrooms' input\", fontsize=30)\n",
    "plt.xlabel('Number of n_samples', fontsize=20)\n",
    "plt.yticks(fontsize=20)\n",
    "plt.xticks(fontsize=20)\n",
    "ax.grid(False)\n",
    "ax.tick_params(bottom=False, left=True)\n",
    "\n",
    "\n",
    "plt.legend(frameon=False, fontsize=20)"
   ]
  },
  {
   "cell_type": "code",
   "execution_count": null,
   "id": "02b5b0e8",
   "metadata": {},
   "outputs": [],
   "source": [
    "df_svm = pd.DataFrame(columns=list(X_test.columns) + ['n_samples', 'N', 'test_sample_idx'])\n",
    "\n",
    "for n_samples_idx, a in enumerate(contributions_svm):\n",
    "    for N, b in enumerate(a):\n",
    "        for test_sample_idx, c in enumerate(b):\n",
    "            row = np.concatenate((c, np.array([n_samples_idx,N,test_sample_idx])))\n",
    "            temp = pd.DataFrame(row.reshape(1,-1), columns=(list(X_test.columns) + ['n_samples', 'N', 'test_sample_idx']))\n",
    "            df_svm = df_svm.append(temp, ignore_index=True)"
   ]
  },
  {
   "cell_type": "code",
   "execution_count": null,
   "id": "d6159501",
   "metadata": {},
   "outputs": [],
   "source": [
    "df_xgboost = pd.DataFrame(columns=list(X_test.columns) + ['n_samples', 'N', 'test_sample_idx'])\n",
    "\n",
    "for n_samples_idx, a in enumerate(contributions_xgboost):\n",
    "    for N, b in enumerate(a):\n",
    "        for test_sample_idx, c in enumerate(b):\n",
    "            row = np.concatenate((c, np.array([n_samples_idx,N,test_sample_idx])))\n",
    "            temp = pd.DataFrame(row.reshape(1,-1), columns=(list(X_test.columns) + ['n_samples', 'N', 'test_sample_idx']))\n",
    "            df_xgboost = df_xgboost.append(temp, ignore_index=True)"
   ]
  },
  {
   "cell_type": "code",
   "execution_count": null,
   "id": "d4f93971",
   "metadata": {},
   "outputs": [],
   "source": [
    "df_xgboost.to_parquet(\"../estimates/house_price_xgboost_uks.parquet\")"
   ]
  },
  {
   "cell_type": "code",
   "execution_count": null,
   "id": "efa49aaf",
   "metadata": {},
   "outputs": [],
   "source": [
    "df_svm.to_parquet(\"../estimates/house_price_svm_uks.parquet\")"
   ]
  },
  {
   "cell_type": "code",
   "execution_count": null,
   "id": "371e1202",
   "metadata": {},
   "outputs": [],
   "source": []
  }
 ],
 "metadata": {
  "kernelspec": {
   "display_name": "myDalex",
   "language": "python",
   "name": "mydalex"
  },
  "language_info": {
   "codemirror_mode": {
    "name": "ipython",
    "version": 3
   },
   "file_extension": ".py",
   "mimetype": "text/x-python",
   "name": "python",
   "nbconvert_exporter": "python",
   "pygments_lexer": "ipython3",
   "version": "3.7.16"
  }
 },
 "nbformat": 4,
 "nbformat_minor": 5
}
